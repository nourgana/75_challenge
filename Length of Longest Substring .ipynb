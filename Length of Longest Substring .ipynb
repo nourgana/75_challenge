{
 "cells": [
  {
   "cell_type": "code",
   "execution_count": 2,
   "metadata": {},
   "outputs": [],
   "source": [
    "import numpy as np\n",
    "import matplotlib.pyplot as plt\n",
    "import pandas as pd"
   ]
  },
  {
   "cell_type": "markdown",
   "metadata": {},
   "source": [
    "## Length of Longest Substring "
   ]
  },
  {
   "cell_type": "code",
   "execution_count": 1,
   "metadata": {},
   "outputs": [],
   "source": [
    "def loLS(s):\n",
    "    current_max = 0\n",
    "    max_so_far = 0 \n",
    "    N = len(s)\n",
    "    start = 0 \n",
    "    hash_map = {}\n",
    "    i = 0 \n",
    "    \n",
    "    while i<N:\n",
    "        \n",
    "        if s[i] not in hash_map:\n",
    "            current_max +=1\n",
    "            \n",
    "        else:\n",
    "            \n",
    "            start = max(start, hash_map[s[i]])\n",
    "            current_max =  i - start \n",
    "        hash_map[s[i]] = i \n",
    "        max_so_far = max (current_max, max_so_far)\n",
    "        i = i + 1\n",
    "    return max_so_far"
   ]
  }
 ],
 "metadata": {
  "kernelspec": {
   "display_name": "Python 3",
   "language": "python",
   "name": "python3"
  },
  "language_info": {
   "codemirror_mode": {
    "name": "ipython",
    "version": 3
   },
   "file_extension": ".py",
   "mimetype": "text/x-python",
   "name": "python",
   "nbconvert_exporter": "python",
   "pygments_lexer": "ipython3",
   "version": "3.7.3"
  }
 },
 "nbformat": 4,
 "nbformat_minor": 2
}
