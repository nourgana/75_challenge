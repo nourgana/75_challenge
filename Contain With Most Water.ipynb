{
 "cells": [
  {
   "cell_type": "code",
   "execution_count": 1,
   "metadata": {},
   "outputs": [],
   "source": [
    "import numpy as np\n",
    "import matplotlib.pyplot as plt\n",
    "import pandas as pd"
   ]
  },
  {
   "cell_type": "markdown",
   "metadata": {},
   "source": [
    "## ContainWithMostWater\n"
   ]
  },
  {
   "cell_type": "code",
   "execution_count": null,
   "metadata": {},
   "outputs": [],
   "source": [
    "def ContainWithMostWater(height):\n",
    "    \n",
    "    max_area = 0 \n",
    "    \n",
    "    curr_area = 0 \n",
    "    \n",
    "    curr_h = 0\n",
    "    curr_w = 0 \n",
    "    \n",
    "    i = 0 \n",
    "    j = len(height)-1\n",
    "    \n",
    "    while i<j : \n",
    "        \n",
    "        curr_h = min(height[i],height[j])\n",
    "        curr_w = j - i \n",
    "        curr_area = curr_h*curr_w\n",
    "        max_area = max(max_area,curr_area)\n",
    "        if height[i]<height[j]:\n",
    "            i = i + 1\n",
    "        else:\n",
    "            j = j - 1\n",
    "        \n",
    "    return max_area\n",
    "      \n"
   ]
  }
 ],
 "metadata": {
  "kernelspec": {
   "display_name": "Python 3",
   "language": "python",
   "name": "python3"
  },
  "language_info": {
   "codemirror_mode": {
    "name": "ipython",
    "version": 3
   },
   "file_extension": ".py",
   "mimetype": "text/x-python",
   "name": "python",
   "nbconvert_exporter": "python",
   "pygments_lexer": "ipython3",
   "version": "3.7.3"
  }
 },
 "nbformat": 4,
 "nbformat_minor": 2
}
