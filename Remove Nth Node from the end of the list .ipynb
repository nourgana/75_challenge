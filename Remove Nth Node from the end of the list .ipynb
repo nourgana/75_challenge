{
 "cells": [
  {
   "cell_type": "markdown",
   "metadata": {},
   "source": [
    "## Remove Nth Node from the end of a list"
   ]
  },
  {
   "cell_type": "markdown",
   "metadata": {},
   "source": [
    "#### V1"
   ]
  },
  {
   "cell_type": "code",
   "execution_count": 3,
   "metadata": {},
   "outputs": [],
   "source": [
    "#Definition for singly-linked list.\n",
    "class ListNode:\n",
    "     def __init__(self, val=0, next=None):\n",
    "         self.val = val\n",
    "         self.next = next\n",
    "class Solution:\n",
    "    def removeNthFromEnd(self, head, n):\n",
    "        \n",
    "        p1 = head \n",
    "        p2 = head \n",
    "        \n",
    "        for i in range (n):\n",
    "            p1 = p1.next \n",
    "        \n",
    "        if not p1:\n",
    "            return head.next \n",
    "        \n",
    "        while p1:\n",
    "            p1 = p1.next \n",
    "            p2 = p2.next \n",
    "        \n",
    "        p2.next = p2.next.next  # the p2 points to the node previous to the nth node   \n",
    "        return head "
   ]
  }
 ],
 "metadata": {
  "kernelspec": {
   "display_name": "Python 3",
   "language": "python",
   "name": "python3"
  },
  "language_info": {
   "codemirror_mode": {
    "name": "ipython",
    "version": 3
   },
   "file_extension": ".py",
   "mimetype": "text/x-python",
   "name": "python",
   "nbconvert_exporter": "python",
   "pygments_lexer": "ipython3",
   "version": "3.7.3"
  }
 },
 "nbformat": 4,
 "nbformat_minor": 2
}
