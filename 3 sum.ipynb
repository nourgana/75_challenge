{
 "cells": [
  {
   "cell_type": "markdown",
   "metadata": {},
   "source": [
    "## Three Sum"
   ]
  },
  {
   "cell_type": "code",
   "execution_count": 1,
   "metadata": {},
   "outputs": [],
   "source": [
    "def threeSum(nums):\n",
    "    L = [] #output\n",
    "    \n",
    "    nums = sorted(nums)\n",
    "    \n",
    "    n = len(nums)\n",
    "    \n",
    "    for i in range (n-1):\n",
    "        \n",
    "        if nums[i]>0: break \n",
    "        if i>0 and nums[i]==nums[i-1]: continue \n",
    "        \n",
    "        j = i + 1\n",
    "        k = n - 1 \n",
    "        \n",
    "        while j<k:\n",
    "            \n",
    "            if nums[i] + nums[j] + nums[k] > 0 :\n",
    "                \n",
    "                k = k - 1 \n",
    "            \n",
    "            elif nums[i]+ nums[j] + nums[k] < 0 :\n",
    "                \n",
    "                j = j + 1\n",
    "            \n",
    "            else:\n",
    "                \n",
    "                l = sorted([nums[i],nums[k],nums[j]])\n",
    "                if l not in L :\n",
    "                    L.append(l)\n",
    "                \n",
    "                \n",
    "                j = j + 1\n",
    "                k = k - 1\n",
    "                \n",
    "    return L \n",
    "    \n",
    "    "
   ]
  }
 ],
 "metadata": {
  "kernelspec": {
   "display_name": "Python 3",
   "language": "python",
   "name": "python3"
  },
  "language_info": {
   "codemirror_mode": {
    "name": "ipython",
    "version": 3
   },
   "file_extension": ".py",
   "mimetype": "text/x-python",
   "name": "python",
   "nbconvert_exporter": "python",
   "pygments_lexer": "ipython3",
   "version": "3.7.3"
  }
 },
 "nbformat": 4,
 "nbformat_minor": 2
}
