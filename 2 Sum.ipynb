{
 "cells": [
  {
   "cell_type": "code",
   "execution_count": 1,
   "metadata": {},
   "outputs": [],
   "source": [
    "import numpy as np\n",
    "import matplotlib.pyplot as plt\n",
    "import pandas as pd"
   ]
  },
  {
   "cell_type": "markdown",
   "metadata": {},
   "source": [
    "## Two Sum "
   ]
  },
  {
   "cell_type": "code",
   "execution_count": 2,
   "metadata": {},
   "outputs": [],
   "source": [
    "def TwoSum1(nums,target):\n",
    "    for i in range(len(nums)-1):\n",
    "        for j in range(len(nums)-1,i,-1):\n",
    "            if nums[i] + nums[j] == target:\n",
    "                return [i,j]"
   ]
  },
  {
   "cell_type": "code",
   "execution_count": 3,
   "metadata": {},
   "outputs": [],
   "source": [
    "def TwoSum2(nums,target):\n",
    "    i = 0 \n",
    "    while i <len(nums):\n",
    "        if (target - nums[i]) in nums:\n",
    "            j = nums.index(target-nums[i])\n",
    "            if i!=j:\n",
    "                return [i,j]\n",
    "            i = i + 1"
   ]
  },
  {
   "cell_type": "markdown",
   "metadata": {},
   "source": [
    "Optimal "
   ]
  },
  {
   "cell_type": "code",
   "execution_count": 4,
   "metadata": {},
   "outputs": [],
   "source": [
    "def TwoSum3(nums,target):\n",
    "    hash_map = {}\n",
    "    \n",
    "    for i, elem in enumerate(nums):\n",
    "        diff = target - elem\n",
    "        if diff in hash_map:\n",
    "            return [hash_map[diff],i]\n",
    "        else:\n",
    "            hash_map[elem]=i"
   ]
  },
  {
   "cell_type": "markdown",
   "metadata": {},
   "source": [
    "Optimal ++"
   ]
  },
  {
   "cell_type": "code",
   "execution_count": 6,
   "metadata": {},
   "outputs": [],
   "source": [
    "def TwoSum4(nums,target):\n",
    "    hash_map = {}\n",
    "    \n",
    "    for i in range (len(nums)):\n",
    "        #have we already seen this value ? \n",
    "        if nums[i] in hash_map:\n",
    "            return [hash_map[nums[i]],i]\n",
    "        #add it \n",
    "        else:\n",
    "            hash_map[target-nums[i]]=i"
   ]
  }
 ],
 "metadata": {
  "kernelspec": {
   "display_name": "Python 3",
   "language": "python",
   "name": "python3"
  },
  "language_info": {
   "codemirror_mode": {
    "name": "ipython",
    "version": 3
   },
   "file_extension": ".py",
   "mimetype": "text/x-python",
   "name": "python",
   "nbconvert_exporter": "python",
   "pygments_lexer": "ipython3",
   "version": "3.7.3"
  }
 },
 "nbformat": 4,
 "nbformat_minor": 2
}
